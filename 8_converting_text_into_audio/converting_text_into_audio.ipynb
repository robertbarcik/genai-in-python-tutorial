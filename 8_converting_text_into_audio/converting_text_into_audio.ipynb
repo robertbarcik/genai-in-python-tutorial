{
 "cells": [
  {
   "cell_type": "markdown",
   "metadata": {},
   "source": [
    "# 🔊 Converting Text into Audio with OpenAI TTS\n",
    "\n",
    "## Learn to Generate Professional Audio for IT Support Scenarios"
   ]
  },
  {
   "cell_type": "markdown",
   "metadata": {},
   "source": [
    "## 📚 Introduction\n",
    "\n",
    "### What You'll Learn\n",
    "In this notebook, you'll learn how to use OpenAI's Text-to-Speech (TTS) API to convert written text into professional audio files. You'll create real-world IT support announcements and notifications that can be used in automated phone systems, monitoring dashboards, and multi-channel communications.\n",
    "\n",
    "### 🎯 The Business Problem\n",
    "\n",
    "IT support teams face several communication challenges:\n",
    "\n",
    "- **Time-consuming manual recording**: Creating voice announcements for every system update requires recording time and equipment\n",
    "- **Inconsistent messaging**: Different team members may deliver the same information differently\n",
    "- **24/7 availability needs**: Multi-shift teams need standardized audio communications that sound professional at any time\n",
    "- **Multi-channel communication**: Teams need to deliver updates via phone systems, monitoring dashboards, and accessibility features\n",
    "- **Quick response requirements**: When incidents occur, teams need to generate and deploy announcements quickly\n",
    "\n",
    "### 💡 The Solution: Text-to-Speech\n",
    "\n",
    "TTS technology can **instantly** convert written system updates into professional audio files, enabling:\n",
    "- Consistent, high-quality voice communications\n",
    "- Rapid deployment of announcements\n",
    "- Easy updates without re-recording\n",
    "- Professional sound quality without recording equipment\n",
    "\n",
    "### 🔑 Key Concepts\n",
    "\n",
    "- **Text-to-Speech (TTS)**: Technology that converts written text into spoken audio\n",
    "- **Voice Synthesis**: The process of generating human-like speech from text\n",
    "- **Audio Formats**: Different file types (MP3, WAV, etc.) for storing audio\n",
    "- **Voice Selection**: Choosing different voices for different contexts\n",
    "\n",
    "### 💰 Pricing Model\n",
    "\n",
    "OpenAI's TTS API charges **per character processed**, making it cost-effective for generating announcements on-demand.\n",
    "\n",
    "### 🏢 Real-World Applications in IT Support\n",
    "\n",
    "- ✅ **Automated phone system announcements** - \"Your call is important to us...\"\n",
    "- ✅ **Voice alerts for monitoring dashboards** - \"Critical: Database server is down\"\n",
    "- ✅ **Accessibility features for documentation** - Making written docs available as audio\n",
    "- ✅ **Multi-language support notifications** - Generate announcements in multiple languages\n",
    "- ✅ **Standard operating procedure (SOP) audio guides** - Voice versions of written procedures"
   ]
  },
  {
   "cell_type": "markdown",
   "metadata": {},
   "source": [
    "## 🔧 Setup"
   ]
  },
  {
   "cell_type": "markdown",
   "metadata": {},
   "source": [
    "### Install Dependencies\n",
    "\n",
    "First, let's install the OpenAI Python library:"
   ]
  },
  {
   "cell_type": "code",
   "execution_count": null,
   "metadata": {},
   "outputs": [],
   "source": [
    "!pip install -q openai"
   ]
  },
  {
   "cell_type": "markdown",
   "metadata": {},
   "source": [
    "### Import Required Libraries"
   ]
  },
  {
   "cell_type": "code",
   "execution_count": null,
   "metadata": {},
   "outputs": [],
   "source": "import os\nfrom pathlib import Path\nfrom openai import OpenAI\nfrom IPython.display import Audio, display"
  },
  {
   "cell_type": "markdown",
   "metadata": {},
   "source": [
    "### Configure OpenAI API Key\n",
    "\n",
    "💡 **Recommended**: Store your API key in Colab secrets for security\n",
    "- Go to 🔑 (left sidebar)\n",
    "- Click \"Add new secret\"\n",
    "- Name: `OPENAI_API_KEY`\n",
    "- Value: Your OpenAI API key"
   ]
  },
  {
   "cell_type": "code",
   "execution_count": null,
   "metadata": {},
   "outputs": [],
   "source": "# Configure OpenAI API key\n# Method 1: Try to get API key from Colab secrets (recommended)\ntry:\n    from google.colab import userdata\n    OPENAI_API_KEY = userdata.get('OPENAI_API_KEY')\n    print(\"✅ API key loaded from Colab secrets\")\nexcept:\n    # Method 2: Manual input (fallback)\n    from getpass import getpass\n    print(\"💡 To use Colab secrets: Go to 🔑 (left sidebar) → Add new secret → Name: OPENAI_API_KEY\")\n    OPENAI_API_KEY = getpass(\"Enter your OpenAI API Key: \")\n\n# Set the API key as an environment variable\nos.environ[\"OPENAI_API_KEY\"] = OPENAI_API_KEY\n\n# Validate that the API key is set\nif not OPENAI_API_KEY or OPENAI_API_KEY.strip() == \"\":\n    raise ValueError(\"❌ ERROR: No API key provided!\")\n\nprint(\"✅ Authentication configured!\")\n\n# Configure which OpenAI model to use\nOPENAI_MODEL = \"gpt-5-nano\"  # Using gpt-5-nano for cost efficiency\nprint(f\"🤖 Selected Model: {OPENAI_MODEL}\")"
  },
  {
   "cell_type": "markdown",
   "metadata": {},
   "source": [
    "### Initialize OpenAI Client"
   ]
  },
  {
   "cell_type": "code",
   "execution_count": null,
   "metadata": {},
   "outputs": [],
   "source": [
    "# Initialize the OpenAI client\n",
    "client = OpenAI(api_key=OPENAI_API_KEY)\n",
    "\n",
    "print(\"✅ OpenAI client initialized!\")"
   ]
  },
  {
   "cell_type": "markdown",
   "metadata": {},
   "source": [
    "### Create Audio Files Directory"
   ]
  },
  {
   "cell_type": "code",
   "execution_count": null,
   "metadata": {},
   "outputs": [],
   "source": [
    "# Create directory for storing audio files\n",
    "audio_dir = Path(\"/content/audio_files\")\n",
    "audio_dir.mkdir(parents=True, exist_ok=True)\n",
    "\n",
    "print(f\"✅ Audio directory created: {audio_dir}\")"
   ]
  },
  {
   "cell_type": "markdown",
   "metadata": {},
   "source": [
    "### 🎤 TTS Configuration\n",
    "\n",
    "**Model**: We'll use `tts-1` (standard quality, cost-effective for most use cases)\n",
    "\n",
    "**Available Voices**:\n",
    "- `alloy` - Neutral, balanced voice\n",
    "- `echo` - Clear, professional voice  \n",
    "- `fable` - Warm, expressive voice\n",
    "- `onyx` - Deep, authoritative voice (recommended for professional IT announcements)\n",
    "- `nova` - Friendly, energetic voice\n",
    "- `shimmer` - Soft, calm voice\n",
    "\n",
    "**Audio Format**: MP3 (default, widely compatible)"
   ]
  },
  {
   "cell_type": "markdown",
   "metadata": {},
   "source": [
    "## 🎓 Understanding Text-to-Speech\n",
    "\n",
    "### How TTS Works\n",
    "\n",
    "Text-to-Speech technology analyzes written text and generates synthetic speech that sounds natural and human-like. The process involves:\n",
    "\n",
    "1. **Text Analysis**: Breaking down the text into words, sentences, and punctuation\n",
    "2. **Pronunciation**: Determining how each word should be pronounced\n",
    "3. **Prosody Generation**: Adding natural rhythm, intonation, and pacing\n",
    "4. **Audio Synthesis**: Creating the actual audio waveform\n",
    "\n",
    "### 📝 When Text Works Well for TTS\n",
    "\n",
    "✅ **Good for TTS**:\n",
    "- Clear, grammatically correct sentences\n",
    "- Proper punctuation (helps with pacing and pauses)\n",
    "- Standard words and common abbreviations\n",
    "- Well-formatted text with natural flow\n",
    "\n",
    "⚠️ **Problematic for TTS**:\n",
    "- Excessive special characters (@, #, $, etc.)\n",
    "- Complex technical abbreviations (might be mispronounced)\n",
    "- All caps text (may sound unnatural)\n",
    "- Unclear formatting or run-on sentences\n",
    "\n",
    "### 🔧 Key TTS API Parameters\n",
    "\n",
    "- **`model`**: `tts-1` (standard quality, cost-effective)\n",
    "- **`voice`**: Choose from 6 voices (alloy, echo, fable, onyx, nova, shimmer)\n",
    "- **`input`**: The text to convert (be mindful of character limits)\n",
    "- **`response_format`**: Audio format - `mp3` (default), `opus`, `aac`, `flac`"
   ]
  },
  {
   "cell_type": "markdown",
   "metadata": {},
   "source": [
    "### 🎯 Simple \"Hello World\" Example\n",
    "\n",
    "Let's start with a simple test to verify everything works:"
   ]
  },
  {
   "cell_type": "code",
   "execution_count": null,
   "metadata": {},
   "outputs": [],
   "source": "# Simple test text\ntest_text = \"Hello, this is a test of the text-to-speech system.\"\n\n# Save to file path\ntest_file = audio_dir / \"test.mp3\"\n\n# Generate audio and save using streaming response\nwith client.audio.speech.with_streaming_response.create(\n    model=\"tts-1\",\n    voice=\"onyx\",\n    input=test_text\n) as response:\n    response.stream_to_file(test_file)\n\nprint(f\"✅ Test audio generated successfully!\")\nprint(f\"📁 File saved to: {test_file}\")\n\n# Play the audio in the notebook\nprint(f\"\\n🎧 Listen to the audio:\")\ndisplay(Audio(test_file))"
  },
  {
   "cell_type": "markdown",
   "metadata": {},
   "source": [
    "## 📢 Basic Example: System Status Announcement\n",
    "\n",
    "Let's create a realistic system status notification for a planned maintenance window."
   ]
  },
  {
   "cell_type": "markdown",
   "metadata": {},
   "source": [
    "### The Written Announcement\n",
    "\n",
    "Here's our planned maintenance notification:\n",
    "\n",
    "---\n",
    "\n",
    "**Attention all users.** \n",
    "\n",
    "This is a scheduled maintenance notification for the customer database system. \n",
    "\n",
    "Maintenance will begin on Saturday, January 20th at 2:00 AM Eastern Time and is expected to last approximately 4 hours. \n",
    "\n",
    "During this time, the customer database will be unavailable. All other systems will remain operational. \n",
    "\n",
    "If you have any questions, please contact the IT helpdesk at extension 5500. \n",
    "\n",
    "Thank you for your patience.\n",
    "\n",
    "---"
   ]
  },
  {
   "cell_type": "code",
   "execution_count": null,
   "metadata": {},
   "outputs": [],
   "source": "# System status notification text\nsystem_status_text = \"\"\"\nAttention all users. \n\nThis is a scheduled maintenance notification for the customer database system. \n\nMaintenance will begin on Saturday, January 20th at 2:00 AM Eastern Time and is expected to last approximately 4 hours. \n\nDuring this time, the customer database will be unavailable. All other systems will remain operational. \n\nIf you have any questions, please contact the IT helpdesk at extension 5500. \n\nThank you for your patience.\n\"\"\".strip()\n\n# Display character count for cost estimation\nchar_count = len(system_status_text)\nprint(f\"📊 Character count: {char_count} characters\")\nprint(f\"💰 Estimated cost: ~€{(char_count / 1_000_000) * 15:.6f} EUR\\n\")\n\n# Save to file path\nstatus_file = audio_dir / \"system_status.mp3\"\n\n# Generate audio using tts-1 with professional \"onyx\" voice\nwith client.audio.speech.with_streaming_response.create(\n    model=\"tts-1\",\n    voice=\"onyx\",  # Professional, authoritative voice\n    input=system_status_text\n) as response:\n    response.stream_to_file(status_file)\n\n# Display results\nfile_size = status_file.stat().st_size\nprint(\"\\n\" + \"=\"*50)\nprint(\"✅ System Status Announcement Generated!\")\nprint(\"=\"*50)\nprint(f\"\\n📄 Original text:\")\nprint(system_status_text)\nprint(f\"\\n📁 Audio file: {status_file}\")\nprint(f\"📦 File size: {file_size:,} bytes ({file_size/1024:.1f} KB)\")\nprint(f\"🎤 Voice used: onyx\")\nprint(f\"🔊 Format: MP3\")\n\n# Play the audio in the notebook\nprint(f\"\\n🎧 Listen to the audio:\")\ndisplay(Audio(status_file))"
  },
  {
   "cell_type": "markdown",
   "metadata": {},
   "source": [
    "## 🚨 Practical Example: Incident Notification\n",
    "\n",
    "In this example, we'll use a **two-step process**:\n",
    "1. **Generate professional notification text** using `gpt-5-nano`\n",
    "2. **Convert that text to audio** using `tts-1`\n",
    "\n",
    "This simulates a real-world scenario where you need to quickly create and deploy an incident announcement."
   ]
  },
  {
   "cell_type": "markdown",
   "metadata": {},
   "source": [
    "### Step 1: Generate Incident Notification Text with GPT-5-Nano"
   ]
  },
  {
   "cell_type": "code",
   "execution_count": null,
   "metadata": {},
   "outputs": [],
   "source": "# Real-world incident scenario\nincident_scenario = \"Email service outage affecting all users, resolved after 2 hours by restarting mail server cluster\"\n\nprint(\"🔄 Generating professional incident notification...\\n\")\n\n# Generate professional notification text using gpt-5-nano\nnotification_response = client.responses.create(\n    model=OPENAI_MODEL,\n    input=[\n        {\n            \"role\": \"developer\",\n            \"content\": \"You are an IT communications specialist. Create professional incident notification announcements for phone systems. Keep it concise (under 100 words), clear, and professional. Include: what happened, impact, resolution, and apology.\"\n        },\n        {\n            \"role\": \"user\",\n            \"content\": incident_scenario\n        }\n    ]\n)\n\n# Extract generated notification text\nincident_notification = notification_response.output_text\n\n# Display generated text\nprint(\"=\"*50)\nprint(\"📢 Generated Incident Notification\")\nprint(\"=\"*50)\nprint(incident_notification)\nprint(\"\\n\" + \"=\"*50)\nprint(f\"📊 Character count: {len(incident_notification)} characters\")"
  },
  {
   "cell_type": "markdown",
   "metadata": {},
   "source": [
    "### Step 2: Convert Text to Audio with TTS-1"
   ]
  },
  {
   "cell_type": "code",
   "execution_count": null,
   "metadata": {},
   "outputs": [],
   "source": "print(\"\\n🔊 Converting notification to audio...\\n\")\n\n# Save to file path\nincident_file = audio_dir / \"incident_notification.mp3\"\n\n# Generate audio from the notification text\nwith client.audio.speech.with_streaming_response.create(\n    model=\"tts-1\",\n    voice=\"onyx\",  # Professional voice for incident notifications\n    input=incident_notification\n) as response:\n    response.stream_to_file(incident_file)\n\n# Display results\nfile_size = incident_file.stat().st_size\nprint(\"=\"*50)\nprint(\"✅ Incident Notification Audio Created!\")\nprint(\"=\"*50)\nprint(f\"\\n📁 Audio file: {incident_file}\")\nprint(f\"📦 File size: {file_size:,} bytes ({file_size/1024:.1f} KB)\")\nprint(f\"🎤 Voice: onyx\")\nprint(f\"🔊 Format: MP3\")\nprint(f\"\\n💡 This audio is ready to be deployed to your phone system!\")\n\n# Play the audio in the notebook\nprint(f\"\\n🎧 Listen to the audio:\")\ndisplay(Audio(incident_file))"
  },
  {
   "cell_type": "markdown",
   "metadata": {},
   "source": [
    "## 📝 Text Formatting Best Practices for TTS\n",
    "\n",
    "### Why Text Formatting Matters\n",
    "\n",
    "The way you format your text has a **significant impact** on audio quality. Well-formatted text produces natural-sounding speech, while poorly formatted text can sound choppy, unclear, or robotic.\n",
    "\n",
    "### ✅ Best Practices\n",
    "\n",
    "1. **Use proper punctuation** - Periods, commas, and other punctuation create natural pauses\n",
    "2. **Spell out abbreviations** - Avoid acronyms that might be mispronounced (e.g., \"IT\" vs \"Information Technology\")\n",
    "3. **Handle numbers carefully** - Spell out numbers when clarity is needed (\"two hours\" vs \"2 hours\")\n",
    "4. **Keep sentences reasonably short** - Long sentences can sound rushed or unclear\n",
    "5. **Avoid special characters** - Characters like @, #, $, etc. may be mispronounced\n",
    "6. **Use complete words** - Avoid text-speak abbreviations like \"pls\", \"thx\", \"u\"\n",
    "\n",
    "### 🔬 Comparison Example\n",
    "\n",
    "Let's compare BAD formatting vs GOOD formatting:"
   ]
  },
  {
   "cell_type": "markdown",
   "metadata": {},
   "source": [
    "#### ❌ BAD TEXT Example\n",
    "\n",
    "**Problem**: Excessive abbreviations, special characters, text-speak"
   ]
  },
  {
   "cell_type": "code",
   "execution_count": null,
   "metadata": {},
   "outputs": [],
   "source": "# BAD formatting example\nbad_text = \"DB srv down @14:30. ETA 2h. Pls wait. Thx.\"\n\nprint(\"❌ BAD TEXT:\")\nprint(bad_text)\nprint(f\"\\nCharacter count: {len(bad_text)}\")\n\n# Save to file path\nbad_file = audio_dir / \"bad_formatting.mp3\"\n\n# Generate audio\nwith client.audio.speech.with_streaming_response.create(\n    model=\"tts-1\",\n    voice=\"onyx\",\n    input=bad_text\n) as response:\n    response.stream_to_file(bad_file)\n\nprint(f\"\\n📁 Audio saved to: {bad_file}\")\nprint(\"🎧 Listen to hear how abbreviations and special characters sound unclear\")\n\n# Play the audio in the notebook\nprint(f\"\\n🎧 Listen to the audio:\")\ndisplay(Audio(bad_file))"
  },
  {
   "cell_type": "markdown",
   "metadata": {},
   "source": [
    "#### ✅ GOOD TEXT Example\n",
    "\n",
    "**Solution**: Clear, complete sentences with proper punctuation"
   ]
  },
  {
   "cell_type": "code",
   "execution_count": null,
   "metadata": {},
   "outputs": [],
   "source": "# GOOD formatting example\ngood_text = \"The database server is currently down as of 2:30 PM. The estimated resolution time is 2 hours. Please wait for further updates. Thank you for your patience.\"\n\nprint(\"✅ GOOD TEXT:\")\nprint(good_text)\nprint(f\"\\nCharacter count: {len(good_text)}\")\n\n# Save to file path\ngood_file = audio_dir / \"good_formatting.mp3\"\n\n# Generate audio\nwith client.audio.speech.with_streaming_response.create(\n    model=\"tts-1\",\n    voice=\"onyx\",\n    input=good_text\n) as response:\n    response.stream_to_file(good_file)\n\nprint(f\"\\n📁 Audio saved to: {good_file}\")\nprint(\"🎧 Listen to hear how clear formatting produces natural-sounding speech\")\n\n# Play the audio in the notebook\nprint(f\"\\n🎧 Listen to the audio:\")\ndisplay(Audio(good_file))"
  },
  {
   "cell_type": "markdown",
   "metadata": {},
   "source": [
    "### 🎧 Compare the Results\n",
    "\n",
    "Listen to both audio files:\n",
    "- `bad_formatting.mp3` - Notice how abbreviations sound unclear or robotic\n",
    "- `good_formatting.mp3` - Notice the natural flow and clarity\n",
    "\n",
    "### 💡 Key Takeaway\n",
    "\n",
    "**Spending a few extra seconds to format your text properly will dramatically improve the quality and professionalism of your audio output.**\n",
    "\n",
    "The good example is longer (~140 characters vs ~40), but the audio quality and clarity are significantly better. For professional IT communications, clarity is more important than brevity."
   ]
  },
  {
   "cell_type": "markdown",
   "metadata": {},
   "source": [
    "## 🎯 Best Practices & Key Takeaways"
   ]
  },
  {
   "cell_type": "markdown",
   "metadata": {},
   "source": [
    "### ✅ Best Practices Summary\n",
    "\n",
    "1. **Write clear, grammatically correct text** - TTS works best with well-written content\n",
    "2. **Use proper punctuation** - Creates natural speech rhythm and pauses\n",
    "3. **Test audio before production deployment** - Always listen to generated audio before using it live\n",
    "4. **Choose appropriate voice for context** - `onyx` for professional/authoritative, `nova` for friendly, etc.\n",
    "5. **Keep announcements concise but informative** - Balance brevity with clarity\n",
    "6. **Store audio files with descriptive names** - Use names like `system_status.mp3`, `incident_notification.mp3`\n",
    "7. **Track generation costs for budgeting** - Monitor character counts to estimate API costs\n",
    "8. **Spell out ambiguous abbreviations** - \"Information Technology\" instead of \"I.T.\"\n",
    "9. **Use complete sentences** - Avoid fragments that might sound choppy\n",
    "10. **Consider your audience** - Professional tone for external communications, friendly for internal\n",
    "\n",
    "### 🎯 When to Use TTS in IT Support\n",
    "\n",
    "#### ✅ Excellent Use Cases\n",
    "\n",
    "- **Standardized system notifications** - Consistent messaging across all announcements\n",
    "- **Automated phone system messages** - Hold music, menu options, status updates\n",
    "- **Accessibility features** - Making documentation available as audio\n",
    "- **Multi-language announcements** - Generate same message in multiple languages\n",
    "- **Scheduled maintenance announcements** - Pre-planned communications\n",
    "- **Training materials** - Converting written guides to audio format\n",
    "\n",
    "#### ⚠️ Use with Review\n",
    "\n",
    "- **Emergency communications** - Test thoroughly before deployment\n",
    "- **Complex technical instructions** - Ensure all terms are pronounced correctly\n",
    "- **Legal/compliance messages** - Verify accuracy and tone\n",
    "- **Customer-facing announcements** - Quality check for professionalism\n",
    "\n",
    "#### ❌ Not Recommended For\n",
    "\n",
    "- **Real-time conversational systems** - Use speech-to-speech or other technologies instead\n",
    "- **Highly personalized messages** - May lack the warmth of human voice\n",
    "- **Situations requiring immediate human judgment** - TTS is not AI-powered decision making\n",
    "\n",
    "### 💰 Cost Optimization Tips\n",
    "\n",
    "1. Use `tts-1` (standard quality) instead of `tts-1-hd` for most use cases\n",
    "2. Keep text concise while maintaining clarity\n",
    "3. Cache frequently-used announcements instead of regenerating\n",
    "4. Monitor character counts before generating\n",
    "5. Batch generate multiple announcements in one session\n",
    "\n",
    "### 🚀 Next Steps\n",
    "\n",
    "Now that you've learned the basics of TTS, try:\n",
    "- Creating announcements for your own IT environment\n",
    "- Experimenting with different voices for different message types\n",
    "- Building a library of standard announcements\n",
    "- Integrating TTS into your automated phone system or monitoring tools\n",
    "- Generating multi-language versions of important announcements\n",
    "\n",
    "### 📚 Additional Resources\n",
    "\n",
    "- OpenAI TTS API Documentation: https://platform.openai.com/docs/guides/text-to-speech\n",
    "- OpenAI Pricing: https://openai.com/pricing\n",
    "- Audio best practices for professional communications"
   ]
  },
  {
   "cell_type": "markdown",
   "metadata": {},
   "source": [
    "## 🎉 Congratulations!\n",
    "\n",
    "You've successfully learned how to:\n",
    "- ✅ Set up and configure OpenAI's TTS API\n",
    "- ✅ Generate professional audio from text\n",
    "- ✅ Create realistic IT support announcements\n",
    "- ✅ Combine GPT-5-nano text generation with TTS for automated workflows\n",
    "- ✅ Apply best practices for text formatting\n",
    "- ✅ Understand when to use TTS in real-world scenarios\n",
    "\n",
    "**You're now ready to create professional audio announcements for your IT support environment!** 🎊"
   ]
  }
 ],
 "metadata": {
  "kernelspec": {
   "display_name": "Python 3",
   "language": "python",
   "name": "python3"
  },
  "language_info": {
   "codemirror_mode": {
    "name": "ipython",
    "version": 3
   },
   "file_extension": ".py",
   "mimetype": "text/x-python",
   "name": "python",
   "nbconvert_exporter": "python",
   "pygments_lexer": "ipython3",
   "version": "3.10.12"
  }
 },
 "nbformat": 4,
 "nbformat_minor": 4
}