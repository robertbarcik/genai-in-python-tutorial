{
 "cells": [
  {
   "cell_type": "markdown",
   "metadata": {},
   "source": "# 🔊 Converting Text into Audio with OpenAI TTS\n\n## Learn to Create Entertaining Audio Stories!"
  },
  {
   "cell_type": "markdown",
   "metadata": {},
   "source": "## 📚 Introduction\n\n### What You'll Learn\nIn this notebook, you'll learn how to use OpenAI's Text-to-Speech (TTS) API to convert written text into engaging audio stories. You'll create fun fairytales and entertaining stories that come to life with different voices!\n\n### 🎯 What We'll Create\n\nIn this tutorial, we'll explore how to:\n\n- **Convert text to speech**: Transform written stories into audio that you can listen to\n- **Experiment with different voices**: Try out various voice options to find the perfect narrator\n- **Generate creative stories**: Use AI to write fun, scary, or silly tales\n- **Create interactive experiences**: Make stories that people can listen to instead of read\n\n### 🔑 Key Concepts\n\n- **Text-to-Speech (TTS)**: Technology that converts written text into spoken audio\n- **Voice Synthesis**: The process of generating human-like speech from text\n- **Voice Selection**: Choosing different voices for different story styles\n- **Audio Playback**: Playing generated audio directly in your notebook\n\n### 🏢 Real-World Applications\n\n- ✅ **Audiobook creation** - Turn written stories into audio format\n- ✅ **Accessibility features** - Make content available for people who prefer listening\n- ✅ **Educational content** - Create engaging audio lessons\n- ✅ **Entertainment** - Generate fun stories and jokes\n- ✅ **Multi-language storytelling** - Create stories in different languages"
  },
  {
   "cell_type": "markdown",
   "metadata": {},
   "source": [
    "## 🔧 Setup"
   ]
  },
  {
   "cell_type": "markdown",
   "metadata": {},
   "source": [
    "### Install Dependencies\n",
    "\n",
    "First, let's install the OpenAI Python library:"
   ]
  },
  {
   "cell_type": "code",
   "execution_count": null,
   "metadata": {},
   "outputs": [],
   "source": [
    "!pip install -q openai"
   ]
  },
  {
   "cell_type": "markdown",
   "metadata": {},
   "source": [
    "### Import Required Libraries"
   ]
  },
  {
   "cell_type": "code",
   "execution_count": null,
   "metadata": {},
   "outputs": [],
   "source": "import os\nfrom pathlib import Path\nfrom openai import OpenAI\nfrom IPython.display import Audio, display"
  },
  {
   "cell_type": "markdown",
   "metadata": {},
   "source": [
    "### Configure OpenAI API Key\n",
    "\n",
    "💡 **Recommended**: Store your API key in Colab secrets for security\n",
    "- Go to 🔑 (left sidebar)\n",
    "- Click \"Add new secret\"\n",
    "- Name: `OPENAI_API_KEY`\n",
    "- Value: Your OpenAI API key"
   ]
  },
  {
   "cell_type": "code",
   "execution_count": null,
   "metadata": {},
   "outputs": [],
   "source": "# Configure OpenAI API key\n# Method 1: Try to get API key from Colab secrets (recommended)\ntry:\n    from google.colab import userdata\n    OPENAI_API_KEY = userdata.get('OPENAI_API_KEY')\n    print(\"✅ API key loaded from Colab secrets\")\nexcept:\n    # Method 2: Manual input (fallback)\n    from getpass import getpass\n    print(\"💡 To use Colab secrets: Go to 🔑 (left sidebar) → Add new secret → Name: OPENAI_API_KEY\")\n    OPENAI_API_KEY = getpass(\"Enter your OpenAI API Key: \")\n\n# Set the API key as an environment variable\nos.environ[\"OPENAI_API_KEY\"] = OPENAI_API_KEY\n\n# Validate that the API key is set\nif not OPENAI_API_KEY or OPENAI_API_KEY.strip() == \"\":\n    raise ValueError(\"❌ ERROR: No API key provided!\")\n\nprint(\"✅ Authentication configured!\")\n\n# Configure which OpenAI model to use\nOPENAI_MODEL = \"gpt-5-nano\"  # Using gpt-5-nano for cost efficiency\nprint(f\"🤖 Selected Model: {OPENAI_MODEL}\")"
  },
  {
   "cell_type": "markdown",
   "metadata": {},
   "source": [
    "### Initialize OpenAI Client"
   ]
  },
  {
   "cell_type": "code",
   "execution_count": null,
   "metadata": {},
   "outputs": [],
   "source": [
    "# Initialize the OpenAI client\n",
    "client = OpenAI(api_key=OPENAI_API_KEY)\n",
    "\n",
    "print(\"✅ OpenAI client initialized!\")"
   ]
  },
  {
   "cell_type": "markdown",
   "execution_count": null,
   "metadata": {},
   "outputs": [],
   "source": "## 🎓 Understanding Text-to-Speech\n\n### How TTS Works\n\nText-to-Speech technology analyzes written text and generates synthetic speech that sounds natural and human-like. The process involves:\n\n1. **Text Analysis**: Breaking down the text into words, sentences, and punctuation\n2. **Pronunciation**: Determining how each word should be pronounced\n3. **Prosody Generation**: Adding natural rhythm, intonation, and pacing\n4. **Audio Synthesis**: Creating the actual audio waveform\n\n### 📝 Tips for Great Audio Stories\n\n✅ **Good for TTS**:\n- Clear, grammatically correct sentences\n- Proper punctuation (helps with pacing and dramatic pauses)\n- Standard words and common expressions\n- Well-formatted text with natural flow\n- Descriptive language that paints a picture\n\n⚠️ **Problematic for TTS**:\n- Excessive special characters (@, #, $, etc.)\n- All caps text (may sound like shouting)\n- Unclear formatting or run-on sentences\n\n### 🔧 Key TTS API Parameters\n\n- **`model`**: `tts-1` (standard quality, cost-effective)\n- **`voice`**: Choose from 6 voices (alloy, echo, fable, onyx, nova, shimmer)\n- **`input`**: The text to convert to speech\n- **`response_format`**: Audio format - `mp3` (default)"
  },
  {
   "cell_type": "markdown",
   "execution_count": null,
   "metadata": {},
   "outputs": [],
   "source": "## 🎯 Example 1: Simple \"Hello World\"\n\nLet's start with a simple test to verify everything works!"
  },
  {
   "cell_type": "code",
   "source": "# Simple test text\ntest_text = \"Hello, this is a test of the text-to-speech system.\"\n\n# Generate audio directly to memory\nresponse = client.audio.speech.create(\n    model=\"tts-1\",\n    voice=\"nova\",  # Friendly voice for testing\n    input=test_text\n)\n\nprint(f\"✅ Test audio generated successfully!\")\n\n# Play the audio directly in the notebook (no file needed!)\nprint(f\"\\n🎧 Listen to the audio:\")\ndisplay(Audio(response.content))",
   "metadata": {},
   "execution_count": null,
   "outputs": []
  },
  {
   "cell_type": "markdown",
   "source": "## 📖 Example 2: AI-Generated Scary Story\n\nLet's create an entertaining story using AI! We'll use a **two-step process**:\n1. **Generate a fun, scary story** using `gpt-5-nano` with a creative prompt\n2. **Convert that story to audio** using `tts-1` with a dramatic voice\n\nThis example shows how you can combine text generation with text-to-speech to create engaging audio content.",
   "metadata": {}
  },
  {
   "cell_type": "code",
   "metadata": {},
   "source": "# Creative story prompt\nstory_prompt = \"Write a humorous scary tale about a brave programmer who did not fear AI. Make it entertaining and suitable for children. Keep it short and engaging - around 150 words maximum.\"\n\nprint(\"🔄 Generating scary story...\\n\")\n\n# Generate the story using gpt-5-nano\nstory_response = client.responses.create(\n    model=OPENAI_MODEL,\n    input=[\n        {\n            \"role\": \"developer\",\n            \"content\": \"You are a creative storyteller who writes entertaining, slightly spooky but humorous stories for children. Your stories are engaging, fun, and have a positive message at the end. Keep stories concise.\"\n        },\n        {\n            \"role\": \"user\",\n            \"content\": story_prompt\n        }\n    ]\n)\n\n# Extract generated story text\nscary_story = story_response.output_text\n\n# Display generated story\nprint(\"=\"*60)\nprint(\"📚 Generated Story: The Brave Programmer\")\nprint(\"=\"*60)\nprint(scary_story)\nprint(\"\\n\" + \"=\"*60)\nprint(f\"📊 Character count: {len(scary_story)} characters\")\nprint(f\"📊 Words: ~{len(scary_story.split())} words\")",
   "execution_count": null,
   "outputs": []
  },
  {
   "cell_type": "markdown",
   "metadata": {},
   "source": [
    "### Step 2: Convert Text to Audio with TTS-1"
   ]
  },
  {
   "cell_type": "code",
   "source": "print(\"\\n🔊 Converting story to audio...\\n\")\n\n# Generate audio from the story (no file needed!)\naudio_response = client.audio.speech.create(\n    model=\"tts-1\",\n    voice=\"onyx\",  # Deep, dramatic voice perfect for scary stories!\n    input=scary_story\n)\n\n# Display results\nprint(\"=\"*60)\nprint(\"✅ Scary Story Audio Created!\")\nprint(\"=\"*60)\nprint(f\"🎤 Voice used: onyx (deep, dramatic)\")\nprint(f\"🔊 Format: MP3\")\nprint(f\"\\n💡 Try changing the voice to 'fable' or 'nova' for a different feel!\")\n\n# Play the audio directly in the notebook\nprint(f\"\\n🎧 Listen to the scary story:\")\ndisplay(Audio(audio_response.content))",
   "metadata": {},
   "execution_count": null,
   "outputs": []
  },
  {
   "cell_type": "markdown",
   "source": "## 🎨 Exercise: Create Your Own Story!\n\nNow it's your turn! In this exercise, you'll:\n1. **Write your own creative prompt** - Think of a fun story idea (fairytale, adventure, funny tale, etc.)\n2. **Choose a voice** - Pick the best voice for your story's mood\n3. **Generate and listen** - Create your own audio story!\n\n### 💡 Story Ideas to Get You Started:\n- A funny tale about a dragon who's afraid of mice\n- A bedtime story about a sleepy cloud\n- An adventure of a curious robot exploring Earth\n- A silly story about vegetables having a party\n- A tale about a wizard who keeps forgetting spells\n\n### 🎤 Voice Recommendations:\n- **`fable`** - Perfect for warm, classic fairytales\n- **`onyx`** - Great for dramatic or mysterious stories\n- **`nova`** - Ideal for upbeat, energetic tales\n- **`shimmer`** - Best for calm, soothing bedtime stories\n- **`alloy`** - Good all-around choice for any story\n- **`echo`** - Clear voice for straightforward narration\n\n### 📝 Pro Tip:\nTo control story length, **specify the desired word count in your prompt** (e.g., \"Keep it around 150 words\" or \"Write a short 100-word story\").",
   "metadata": {}
  },
  {
   "cell_type": "markdown",
   "source": "### Step 1: Write Your Story Prompt and Choose a Voice",
   "metadata": {}
  },
  {
   "cell_type": "code",
   "source": "# 🎨 YOUR TURN! Customize these values:\n\n# Write your creative story prompt here (specify length in the prompt)\nyour_story_prompt = \"Write a funny bedtime story about a dragon who's afraid of mice. Make it entertaining and suitable for children. Keep it around 150 words.\"\n\n# Choose your preferred voice: \"alloy\", \"echo\", \"fable\", \"onyx\", \"nova\", or \"shimmer\"\nyour_voice = \"fable\"\n\nprint(f\"🎯 Your prompt: {your_story_prompt}\")\nprint(f\"🎤 Selected voice: {your_voice}\")\nprint(\"\\n\" + \"=\"*60)",
   "metadata": {},
   "execution_count": null,
   "outputs": []
  },
  {
   "cell_type": "markdown",
   "source": "### Step 2: Generate Your Story with AI",
   "metadata": {}
  },
  {
   "cell_type": "code",
   "source": "print(\"🔄 Generating your story...\\n\")\n\n# Generate the story using gpt-5-nano\nyour_story_response = client.responses.create(\n    model=OPENAI_MODEL,\n    input=[\n        {\n            \"role\": \"developer\",\n            \"content\": \"You are a creative storyteller who writes entertaining stories for children. Your stories are engaging, fun, and have a positive message. Keep stories concise.\"\n        },\n        {\n            \"role\": \"user\",\n            \"content\": your_story_prompt\n        }\n    ]\n)\n\n# Extract the generated story\nyour_story = your_story_response.output_text\n\n# Display the story\nprint(\"=\"*60)\nprint(\"📚 Your Generated Story\")\nprint(\"=\"*60)\nprint(your_story)\nprint(\"\\n\" + \"=\"*60)\nprint(f\"📊 Character count: {len(your_story)} characters\")\nprint(f\"📊 Words: ~{len(your_story.split())} words\")",
   "metadata": {},
   "execution_count": null,
   "outputs": []
  },
  {
   "cell_type": "markdown",
   "source": "### Step 3: Convert Your Story to Audio",
   "metadata": {}
  },
  {
   "cell_type": "code",
   "source": "print(\"\\n🔊 Converting your story to audio...\\n\")\n\n# Generate audio from your story\nyour_audio_response = client.audio.speech.create(\n    model=\"tts-1\",\n    voice=your_voice,\n    input=your_story\n)\n\n# Display results\nprint(\"=\"*60)\nprint(\"✅ Your Audio Story is Ready!\")\nprint(\"=\"*60)\nprint(f\"🎤 Voice used: {your_voice}\")\nprint(f\"🔊 Format: MP3\")\nprint(f\"\\n💡 Experiment! Try changing the voice or prompt and run again!\")\n\n# Play the audio directly in the notebook\nprint(f\"\\n🎧 Listen to your story:\")\ndisplay(Audio(your_audio_response.content))",
   "metadata": {},
   "execution_count": null,
   "outputs": []
  },
  {
   "cell_type": "markdown",
   "source": "## 🎯 Key Takeaways & Tips\n\n### ✅ What You've Learned\n\n1. **Text-to-Speech Basics** - How to convert text into natural-sounding audio\n2. **Voice Selection** - Different voices create different moods and atmospheres\n3. **AI Story Generation** - Combining GPT models with TTS for creative content\n4. **Experimentation** - How to adjust prompts, voices, and parameters\n\n### 💡 Tips for Better Audio Stories\n\n✅ **Writing Great Prompts:**\n- Be specific about the story type (funny, scary, educational, etc.)\n- Mention the target audience (children, adults, etc.)\n- Specify the desired length (short, medium, detailed)\n- Include the mood you want (cheerful, mysterious, calm, etc.)\n\n✅ **Choosing the Right Voice:**\n- **Fairytales & warm stories** → `fable` or `shimmer`\n- **Dramatic & scary stories** → `onyx`\n- **Fun & energetic tales** → `nova`\n- **Calm bedtime stories** → `shimmer`\n- **General narration** → `alloy` or `echo`\n\n✅ **Text Formatting for Better Audio:**\n- Use proper punctuation for natural pauses\n- Write in complete sentences\n- Avoid excessive special characters\n- Keep sentences clear and well-structured\n\n### 🚀 Ideas for Further Exploration\n\n- **Create a series** - Generate multiple connected stories\n- **Try different genres** - Adventure, mystery, comedy, educational tales\n- **Multi-voice stories** - Use different voices for different characters\n- **Multi-language stories** - Generate stories in different languages\n- **Combine with images** - Create illustrated audio stories\n\n### 🎉 Congratulations!\n\nYou've successfully learned how to:\n- ✅ Set up and use OpenAI's TTS API\n- ✅ Generate creative stories with AI\n- ✅ Convert text to natural-sounding audio\n- ✅ Experiment with different voices and prompts\n- ✅ Create engaging audio content for entertainment and education\n\n**Keep experimenting and have fun creating amazing audio stories!** 🎊",
   "metadata": {}
  }
 ],
 "metadata": {
  "kernelspec": {
   "display_name": "Python 3",
   "language": "python",
   "name": "python3"
  },
  "language_info": {
   "codemirror_mode": {
    "name": "ipython",
    "version": 3
   },
   "file_extension": ".py",
   "mimetype": "text/x-python",
   "name": "python",
   "nbconvert_exporter": "python",
   "pygments_lexer": "ipython3",
   "version": "3.10.12"
  }
 },
 "nbformat": 4,
 "nbformat_minor": 4
}